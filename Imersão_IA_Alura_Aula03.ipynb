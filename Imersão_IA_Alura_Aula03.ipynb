{
  "nbformat": 4,
  "nbformat_minor": 0,
  "metadata": {
    "colab": {
      "provenance": [],
      "toc_visible": true,
      "authorship_tag": "ABX9TyN//U6Li8lzPDH93VhG5K2b",
      "include_colab_link": true
    },
    "kernelspec": {
      "name": "python3",
      "display_name": "Python 3"
    },
    "language_info": {
      "name": "python"
    }
  },
  "cells": [
    {
      "cell_type": "markdown",
      "metadata": {
        "id": "view-in-github",
        "colab_type": "text"
      },
      "source": [
        "<a href=\"https://colab.research.google.com/github/nbrasilio/Imersao_IA_Aula04/blob/main/Imers%C3%A3o_IA_Alura_Aula03.ipynb\" target=\"_parent\"><img src=\"https://colab.research.google.com/assets/colab-badge.svg\" alt=\"Open In Colab\"/></a>"
      ]
    },
    {
      "cell_type": "code",
      "source": [
        "# trazendo a boblioteca capaz de realizar requisições\n",
        "import requests\n",
        "# trazendo a boblioteca capaz de realizar obtenção randômica\n",
        "import random\n",
        "\n",
        "# uma variável chamada url que armazena o endereço das informações que serão obtidas\n",
        "url = 'https://raw.githubusercontent.com/guilhermeonrails/api-imersao-ia/main/words.json'\n",
        "\n",
        "# obtenção (requisição) e armazenamento na variável chamada resposta\n",
        "resposta = requests.get(url)\n",
        "\n",
        "# transforma a resposta obtida (array) num JSON\n",
        "data = resposta.json()\n",
        "\n",
        "# exibe as informações obtidas\n",
        "print(\"INFORMAÇÕES OBTIDAS:\")\n",
        "print(data)"
      ],
      "metadata": {
        "colab": {
          "base_uri": "https://localhost:8080/"
        },
        "id": "Gs_f8HWpsAGg",
        "outputId": "edb7bb9f-f6cf-40e1-c9b7-f10179463127"
      },
      "execution_count": null,
      "outputs": [
        {
          "output_type": "stream",
          "name": "stdout",
          "text": [
            "INFORMAÇÕES OBTIDAS:\n",
            "[{'palavra': 'python', 'dica': 'automatizar tarefas e desenvolver aplicações web.'}, {'palavra': 'javascript', 'dica': 'criar interatividade em páginas web e desenvolver aplicações front-end.'}, {'palavra': 'java', 'dica': 'desenvolver aplicações empresariais e para dispositivos móveis.'}, {'palavra': 'html', 'dica': 'estruturar conteúdo em páginas web.'}, {'palavra': 'css', 'dica': 'estilizar elementos em páginas web.'}, {'palavra': 'sql', 'dica': 'gerenciar e consultar bancos de dados relacionais.'}, {'palavra': 'react', 'dica': 'desenvolver interfaces de usuário reativas e escaláveis.'}, {'palavra': 'angular', 'dica': 'construir aplicativos web spa (single page application) complexos.'}, {'palavra': 'node', 'dica': 'criar aplicativos de servidor escaláveis e de alta performance.'}, {'palavra': 'vue', 'dica': 'desenvolver interfaces de usuário interativas e dinâmicas.'}, {'palavra': 'ruby', 'dica': 'desenvolver aplicações web e scripts de automação.'}, {'palavra': 'php', 'dica': 'construir aplicações web dinâmicas e interativas.'}, {'palavra': 'c++', 'dica': 'desenvolver software de sistema, jogos e aplicações de alto desempenho.'}, {'palavra': 'c#', 'dica': 'desenvolver aplicações windows e jogos utilizando o framework .net.'}, {'palavra': 'swift', 'dica': 'desenvolver aplicativos para dispositivos apple, como iphone e ipad.'}, {'palavra': 'kotlin', 'dica': 'desenvolver aplicativos android modernos e seguros.'}, {'palavra': 'tensorflow', 'dica': 'construir e treinar modelos de aprendizado de máquina.'}, {'palavra': 'pytorch', 'dica': 'desenvolver e treinar modelos de aprendizado profundo.'}, {'palavra': 'mongodb', 'dica': 'armazenar e consultar dados de forma flexível e escalável.'}, {'palavra': 'postgresql', 'dica': 'gerenciar dados estruturados e relacionais com segurança.'}, {'palavra': 'docker', 'dica': 'empacotar, distribuir e executar aplicativos em contêineres.'}, {'palavra': 'kubernetes', 'dica': 'orquestrar e gerenciar contêineres em ambientes de produção.'}, {'palavra': 'git', 'dica': 'controlar e colaborar no desenvolvimento de código-fonte.'}, {'palavra': 'jupyter', 'dica': 'criar e compartilhar documentos que contenham código interativo, visualizações e textos explicativos.'}, {'palavra': 'r', 'dica': 'analisar dados e criar visualizações estatísticas.'}, {'palavra': 'scala', 'dica': 'desenvolver aplicativos escaláveis e concorrentes na jvm.'}, {'palavra': 'hadoop', 'dica': 'armazenar e processar grandes volumes de dados em clusters distribuídos.'}, {'palavra': 'spark', 'dica': 'processar e analisar dados de forma rápida e escalável.'}, {'palavra': 'arduino', 'dica': 'desenvolver projetos eletrônicos interativos e automatizados.'}, {'palavra': 'raspberry', 'dica': 'criar dispositivos e projetos de iot (internet das coisas) com baixo custo.'}, {'palavra': 'linux', 'dica': 'utilizar e administrar sistemas operacionais de código aberto.'}, {'palavra': 'windows', 'dica': 'desenvolver aplicativos e sistemas operacionais para computadores pessoais.'}, {'palavra': 'macos', 'dica': 'desenvolver aplicativos para computadores apple e sistemas operacionais.'}, {'palavra': 'android', 'dica': 'desenvolver aplicativos para dispositivos móveis android.'}, {'palavra': 'ios', 'dica': 'desenvolver aplicativos para dispositivos móveis apple (iphone e ipad).'}, {'palavra': 'firebase', 'dica': 'desenvolver aplicativos móveis e web com uma plataforma de backend escalável.'}, {'palavra': 'aws', 'dica': 'implantar e gerenciar aplicativos em uma plataforma de nuvem líder de mercado.'}, {'palavra': 'azure', 'dica': 'desenvolver, implantar e gerenciar aplicativos em uma plataforma de nuvem da microsoft.'}, {'palavra': 'google', 'dica': 'utilizar serviços e produtos da google para desenvolvimento e negócios.'}, {'palavra': 'api', 'dica': 'integrar e comunicar sistemas e serviços de software.'}, {'palavra': 'rest', 'dica': 'criar e consumir apis web de maneira simples e eficiente.'}, {'palavra': 'graphql', 'dica': 'consultar e manipular dados de forma eficiente e flexível.'}, {'palavra': 'oauth', 'dica': 'implementar autenticação e autorização em aplicativos.'}]\n"
          ]
        }
      ]
    },
    {
      "cell_type": "code",
      "source": [
        "# Mostrando uma das linhas do array, específica {lembrando que o índice começa de 0 (ZERO)}\n",
        "print(\"INFORMAÇÃO DA PRIMEIRA LINHA DO ARRAY:\")\n",
        "print(data[0])\n",
        "\n",
        "print(\"INFORMAÇÃO DA ÚLTIMA LINHA DO ARRAY:\")\n",
        "print(data[42])\n",
        "\n"
      ],
      "metadata": {
        "id": "ZJTcQBAjvvPH",
        "colab": {
          "base_uri": "https://localhost:8080/"
        },
        "outputId": "03e5da8c-ea8f-445b-ce23-15fac2d99451"
      },
      "execution_count": null,
      "outputs": [
        {
          "output_type": "stream",
          "name": "stdout",
          "text": [
            "INFORMAÇÃO DA PRIMEIRA LINHA DO ARRAY:\n",
            "{'palavra': 'python', 'dica': 'automatizar tarefas e desenvolver aplicações web.'}\n",
            "INFORMAÇÃO DA ÚLTIMA LINHA DO ARRAY:\n",
            "{'palavra': 'oauth', 'dica': 'implementar autenticação e autorização em aplicativos.'}\n"
          ]
        }
      ]
    },
    {
      "cell_type": "code",
      "source": [
        "# obtenção randômica (aleatória) de uma linha do array, armazenando na variável valor_secreto\n",
        "valor_secreto = random.choice(data)\n",
        "\n",
        "# separando a palavra secreta, na variável palavra_secreta\n",
        "palavra_secreta = valor_secreto['palavra']\n",
        "\n",
        "# separando a dica secreta, na variável dica_secreta\n",
        "dica_secreta = valor_secreto['dica']\n",
        "\n",
        "# mostrando a palavra secreta aleatória obtida, a partir do conteúdo da variável palavra_secreta\n",
        "print(f'PALAVRA SECRETA ALEATÓRIA: {(palavra_secreta)} ')\n",
        "\n",
        "# mostrando o tamanho da palavra secreta aleatória e a respectiva dica\n",
        "print(f'A palavra secreta tem {len(palavra_secreta)} letras -> dica: {dica_secreta}')\n",
        "\n",
        "# receber o chute ou palpite da tecnologia\n",
        "chute = input('Coloque seu palpite de qual seria a palavra relacionada a dica acima, com a quantidade de letras igual ao tamanho citado: ')\n",
        "\n",
        "# verificar se o chute é igual a palavra aleatória\n",
        "if chute == palavra_secreta:\n",
        "  print('ACERTOU!!!!')\n",
        "else:\n",
        "  print(f'Errou... a palavra secreta era {palavra_secreta}')"
      ],
      "metadata": {
        "colab": {
          "base_uri": "https://localhost:8080/"
        },
        "id": "4sUQCAxADnrn",
        "outputId": "36ce3610-e959-4fcf-ad2a-a96e0a9641fe"
      },
      "execution_count": null,
      "outputs": [
        {
          "output_type": "stream",
          "name": "stdout",
          "text": [
            "PALAVRA SECRETA ALEATÓRIA: css \n",
            "A palavra secreta tem 3 letras -> dica: estilizar elementos em páginas web.\n",
            "Coloque seu palpite de qual seria a palavra relacionada a dica acima, com a quantidade de letras igual ao tamanho citado: css\n",
            "ACERTOU!!!!\n"
          ]
        }
      ]
    }
  ]
}